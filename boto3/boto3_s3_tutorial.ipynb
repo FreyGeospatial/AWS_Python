{
 "cells": [
  {
   "cell_type": "markdown",
   "id": "6191e7e1",
   "metadata": {},
   "source": [
    "# boto3 for S3 Tutorial - Python"
   ]
  },
  {
   "cell_type": "code",
   "execution_count": 1,
   "id": "b18150a8",
   "metadata": {},
   "outputs": [],
   "source": [
    "import boto3"
   ]
  },
  {
   "cell_type": "code",
   "execution_count": 6,
   "id": "43bf667d",
   "metadata": {},
   "outputs": [
    {
     "data": {
      "text/plain": [
       "<botocore.client.S3 at 0x7f86f0093460>"
      ]
     },
     "execution_count": 6,
     "metadata": {},
     "output_type": "execute_result"
    }
   ],
   "source": [
    "# create bucket\n",
    "client = boto3.client('s3')\n",
    "client"
   ]
  },
  {
   "cell_type": "code",
   "execution_count": null,
   "id": "a24248ac",
   "metadata": {},
   "outputs": [],
   "source": [
    "# read in bucket name \n",
    "with open(\"./bucket_name.txt\") as f: # storing bucket name in textfile\n",
    "    name = f.readline()\n",
    "\n",
    "# create a new bucket. Must be lowercase\n",
    "client.create_bucket(Bucket = name.lower()) # bucket name must be unique globally, among ALL other AWS accounts"
   ]
  },
  {
   "cell_type": "code",
   "execution_count": null,
   "id": "3f945eb3",
   "metadata": {},
   "outputs": [],
   "source": []
  },
  {
   "cell_type": "code",
   "execution_count": null,
   "id": "b2a79c38",
   "metadata": {},
   "outputs": [],
   "source": []
  }
 ],
 "metadata": {
  "kernelspec": {
   "display_name": "Python 3 (ipykernel)",
   "language": "python",
   "name": "python3"
  },
  "language_info": {
   "codemirror_mode": {
    "name": "ipython",
    "version": 3
   },
   "file_extension": ".py",
   "mimetype": "text/x-python",
   "name": "python",
   "nbconvert_exporter": "python",
   "pygments_lexer": "ipython3",
   "version": "3.9.7"
  }
 },
 "nbformat": 4,
 "nbformat_minor": 5
}
