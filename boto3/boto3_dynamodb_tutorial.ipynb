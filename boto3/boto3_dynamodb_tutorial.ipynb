{
 "cells": [
  {
   "cell_type": "code",
   "execution_count": 4,
   "id": "22e6ff60",
   "metadata": {},
   "outputs": [],
   "source": [
    "from boto3.dynamodb.conditions import Key\n",
    "\n",
    "import boto3"
   ]
  },
  {
   "cell_type": "code",
   "execution_count": 5,
   "id": "b0b0b1f7",
   "metadata": {},
   "outputs": [],
   "source": [
    "# two options... can create boto3 client OR resource with DynamoDB"
   ]
  },
  {
   "cell_type": "code",
   "execution_count": 6,
   "id": "7145e814",
   "metadata": {},
   "outputs": [
    {
     "name": "stdout",
     "output_type": "stream",
     "text": [
      "{'TableNames': ['Employees'], 'ResponseMetadata': {'RequestId': '49d52a25-6536-4bc8-b3a2-ea1ceda71f58', 'HTTPStatusCode': 200, 'HTTPHeaders': {'date': 'Thu, 01 Sep 2022 22:31:10 GMT', 'content-type': 'application/x-amz-json-1.0', 'x-amz-crc32': '2871489903', 'x-amzn-requestid': '49d52a25-6536-4bc8-b3a2-ea1ceda71f58', 'content-length': '28', 'server': 'Jetty(9.4.18.v20190429)'}, 'RetryAttempts': 0}}\n"
     ]
    }
   ],
   "source": [
    "ddb = boto3.client('dynamodb', endpoint_url='http://localhost:8000')\n",
    "print(ddb.list_tables())"
   ]
  },
  {
   "cell_type": "code",
   "execution_count": 11,
   "id": "6ea6fd33",
   "metadata": {},
   "outputs": [
    {
     "name": "stdout",
     "output_type": "stream",
     "text": [
      "[dynamodb.Table(name='Employees')]\n"
     ]
    }
   ],
   "source": [
    "ddb = boto3.resource('dynamodb', endpoint_url='http://localhost:8000')\n",
    "tables = list(ddb.tables.all()) # prints empty list, as we have no tables\n",
    "print(tables)"
   ]
  },
  {
   "cell_type": "code",
   "execution_count": 8,
   "id": "0ac33fa2",
   "metadata": {},
   "outputs": [
    {
     "data": {
      "text/plain": [
       "boto3.resources.factory.dynamodb.ServiceResource"
      ]
     },
     "execution_count": 8,
     "metadata": {},
     "output_type": "execute_result"
    }
   ],
   "source": [
    "# we will use resources for this tutorial.\n",
    "type(ddb)"
   ]
  },
  {
   "cell_type": "code",
   "execution_count": 22,
   "id": "d05a0fed",
   "metadata": {},
   "outputs": [],
   "source": [
    "# create table using JSON format if it doesn't yet exist\n",
    "table = None\n",
    "if len(tables) > 0:\n",
    "    for table_x in tables:\n",
    "        if table_x.table_name == 'Employees':\n",
    "            table = table_x\n",
    "            break\n",
    "else:\n",
    "    table = ddb.create_table(\n",
    "        TableName = 'Employees',\n",
    "        # HASH and RANGE together make up a \"primary key\", which is unique in the table\n",
    "        # you can have the same HASH multiple times, but with different RANGES (and vice versa?).\n",
    "        KeySchema = [\n",
    "            {\n",
    "                'AttributeName': 'Name',\n",
    "                'KeyType': 'HASH' # PARITION KEY\n",
    "            },\n",
    "            {\n",
    "                'AttributeName': 'Email', # SORT KEY (optional)\n",
    "                'KeyType': 'RANGE'\n",
    "            }\n",
    "        ],\n",
    "        AttributeDefinitions = [\n",
    "            {\n",
    "                'AttributeName': 'Name',\n",
    "                'AttributeType': 'S' # S == STRING\n",
    "            },\n",
    "            {\n",
    "                'AttributeName': 'Email',\n",
    "                'AttributeType': 'S' \n",
    "            }\n",
    "        ],\n",
    "        # doesn't matter for local instance\n",
    "        ProvisionedThroughput={ # THE RATE AT WHICH YOU WANT YOUR READ/WRITE CAPACITY TO BE SET TO\n",
    "            'ReadCapacityUnits': 1,\n",
    "            'WriteCapacityUnits': 1\n",
    "        },\n",
    "        BillingMode='PAY_PER_REQUEST', # optional argument, does not matter for local instance\n",
    "        # note that adding a single GSI doubles cost of writing,\n",
    "        # and you can add a max of 20 GSIs. Replications to GSI table are quick\n",
    "        # but not instantaneous.\n",
    "        \n",
    "        # also, write capacity on GSI table should honestly be HIGHER than \n",
    "        # write capacity on main table\n",
    "        GlobalSecondaryIndexes=[\n",
    "            {\n",
    "                'IndexName': 'Country', # MUST BE UNIQUE ONLY FOR THIS TABLE\n",
    "                # key schema must have at least a partition key. RANGE is optional\n",
    "                'KeySchema': [\n",
    "                    {\n",
    "                        'AttributeName': 'Email', # Seems like this needs to match the RANGE value from main table, just from what I've seen others do... need confirmation though\n",
    "                        'KeyType': 'HASH'\n",
    "                    }\n",
    "            ],\n",
    "            # This represents attributes that are copied (projected) from main table into\n",
    "            # secondary index table. These are in addition to PK atrributes and Index key attributes,\n",
    "            # which are automatically projected.\n",
    "                'Projection': {\n",
    "                    # can be 'KEYS_ONLY', 'ALL' or \"INCLUDE\", the latter of which requires a list to be passed elsewhere. See boto3 documentation.\n",
    "                    'ProjectionType': 'ALL'\n",
    "                    # 'NonKeyAttributes': ['string']\n",
    "                },\n",
    "                'ProvisionedThroughput': {\n",
    "                    'ReadCapacityUnits': 1,\n",
    "                    'WriteCapacityUnits': 2\n",
    "                }\n",
    "            }\n",
    "        ]\n",
    "    )"
   ]
  },
  {
   "cell_type": "code",
   "execution_count": null,
   "id": "38ad4690",
   "metadata": {},
   "outputs": [],
   "source": [
    "# ** if you are coming back to this tutorial and have already created the table...**\n",
    "table = ddb.Table(\"Employees\")"
   ]
  },
  {
   "cell_type": "code",
   "execution_count": 10,
   "id": "4ade1084",
   "metadata": {},
   "outputs": [
    {
     "ename": "NameError",
     "evalue": "name 'table' is not defined",
     "output_type": "error",
     "traceback": [
      "\u001b[0;31m---------------------------------------------------------------------------\u001b[0m",
      "\u001b[0;31mNameError\u001b[0m                                 Traceback (most recent call last)",
      "\u001b[1;32m/Users/jfrey/Library/CloudStorage/OneDrive-Personal/Documents/Personal_Projects/AWS_Python/boto3/boto3_dynamodb_tutorial.ipynb Cell 8\u001b[0m in \u001b[0;36m<cell line: 2>\u001b[0;34m()\u001b[0m\n\u001b[1;32m      <a href='vscode-notebook-cell:/Users/jfrey/Library/CloudStorage/OneDrive-Personal/Documents/Personal_Projects/AWS_Python/boto3/boto3_dynamodb_tutorial.ipynb#X10sZmlsZQ%3D%3D?line=0'>1</a>\u001b[0m \u001b[39m# returns key schema\u001b[39;00m\n\u001b[0;32m----> <a href='vscode-notebook-cell:/Users/jfrey/Library/CloudStorage/OneDrive-Personal/Documents/Personal_Projects/AWS_Python/boto3/boto3_dynamodb_tutorial.ipynb#X10sZmlsZQ%3D%3D?line=1'>2</a>\u001b[0m table\u001b[39m.\u001b[39mkey_schema\n",
      "\u001b[0;31mNameError\u001b[0m: name 'table' is not defined"
     ]
    }
   ],
   "source": [
    "# returns key schema\n",
    "table.key_schema"
   ]
  },
  {
   "cell_type": "code",
   "execution_count": null,
   "id": "0dfaee0b",
   "metadata": {},
   "outputs": [],
   "source": [
    "# returns the table attribute definitions\n",
    "table.attribute_definitions"
   ]
  },
  {
   "cell_type": "code",
   "execution_count": null,
   "id": "e7c06dd5",
   "metadata": {},
   "outputs": [],
   "source": [
    "# returned provisioned_throughput\n",
    "table.provisioned_throughput"
   ]
  },
  {
   "cell_type": "code",
   "execution_count": null,
   "id": "76231e30",
   "metadata": {
    "scrolled": true
   },
   "outputs": [],
   "source": [
    "# find GSIs\n",
    "table.global_secondary_indexes"
   ]
  },
  {
   "cell_type": "code",
   "execution_count": null,
   "id": "87183c94",
   "metadata": {},
   "outputs": [],
   "source": [
    "# insert record\n",
    "# ddb.put_item(TableName='Employees', Item={\n",
    "#     'Name': {\n",
    "#         'S':'Frey'\n",
    "#     },\n",
    "#     'Email': {\n",
    "#         'S': 'jordan@freygeospatial.com'\n",
    "#     },\n",
    "#     'Country': {\n",
    "#         'S', 'USA'\n",
    "#     }\n",
    "# })\n",
    "table.put_item(Item={'Name':'Frey', \n",
    "               'Email': 'jordan@freygeospatial.com',\n",
    "               'Country':'USA',\n",
    "               'RandomAttribute': 'Blah!'})"
   ]
  },
  {
   "cell_type": "code",
   "execution_count": null,
   "id": "fa836e2e",
   "metadata": {},
   "outputs": [
    {
     "name": "stdout",
     "output_type": "stream",
     "text": [
      "Items\n",
      "Count\n",
      "ScannedCount\n",
      "ResponseMetadata\n"
     ]
    }
   ],
   "source": [
    "# scan table\n",
    "results = table.scan()\n",
    "for item in results:\n",
    "    print(item)\n",
    "    "
   ]
  },
  {
   "cell_type": "code",
   "execution_count": null,
   "id": "ea23743d",
   "metadata": {},
   "outputs": [
    {
     "data": {
      "text/plain": [
       "[{'Country': 'USA',\n",
       "  'RandomAttribute': 'Blah!',\n",
       "  'Email': 'jordan@freygeospatial.com',\n",
       "  'Name': 'Frey'}]"
      ]
     },
     "execution_count": 107,
     "metadata": {},
     "output_type": "execute_result"
    }
   ],
   "source": [
    "results[\"Items\"]"
   ]
  },
  {
   "cell_type": "code",
   "execution_count": null,
   "id": "47fe6a41",
   "metadata": {},
   "outputs": [
    {
     "data": {
      "text/plain": [
       "1"
      ]
     },
     "execution_count": 88,
     "metadata": {},
     "output_type": "execute_result"
    }
   ],
   "source": [
    "results[\"Count\"]"
   ]
  },
  {
   "cell_type": "code",
   "execution_count": null,
   "id": "4c6f4611",
   "metadata": {},
   "outputs": [
    {
     "data": {
      "text/plain": [
       "1"
      ]
     },
     "execution_count": 89,
     "metadata": {},
     "output_type": "execute_result"
    }
   ],
   "source": [
    "results[\"ScannedCount\"]"
   ]
  },
  {
   "cell_type": "code",
   "execution_count": null,
   "id": "ef026814",
   "metadata": {},
   "outputs": [
    {
     "data": {
      "text/plain": [
       "{'RequestId': '2a236310-bef8-4324-aa47-b0cc84e06265',\n",
       " 'HTTPStatusCode': 200,\n",
       " 'HTTPHeaders': {'date': 'Fri, 06 May 2022 13:43:05 GMT',\n",
       "  'content-type': 'application/x-amz-json-1.0',\n",
       "  'x-amz-crc32': '1839928699',\n",
       "  'x-amzn-requestid': '2a236310-bef8-4324-aa47-b0cc84e06265',\n",
       "  'content-length': '156',\n",
       "  'server': 'Jetty(9.4.18.v20190429)'},\n",
       " 'RetryAttempts': 0}"
      ]
     },
     "execution_count": 101,
     "metadata": {},
     "output_type": "execute_result"
    }
   ],
   "source": [
    "results[\"ResponseMetadata\"]"
   ]
  },
  {
   "cell_type": "code",
   "execution_count": null,
   "id": "20a83f4f",
   "metadata": {},
   "outputs": [
    {
     "data": {
      "text/plain": [
       "{'Item': {'Country': 'USA',\n",
       "  'RandomAttribute': 'Blah!',\n",
       "  'Email': 'jordan@freygeospatial.com',\n",
       "  'Name': 'Frey'},\n",
       " 'ResponseMetadata': {'RequestId': 'e3c11f42-9c63-4d90-819c-ec88b5d60d21',\n",
       "  'HTTPStatusCode': 200,\n",
       "  'HTTPHeaders': {'date': 'Thu, 11 Aug 2022 20:35:29 GMT',\n",
       "   'content-type': 'application/x-amz-json-1.0',\n",
       "   'x-amz-crc32': '4093131092',\n",
       "   'x-amzn-requestid': 'e3c11f42-9c63-4d90-819c-ec88b5d60d21',\n",
       "   'content-length': '126',\n",
       "   'server': 'Jetty(9.4.18.v20190429)'},\n",
       "  'RetryAttempts': 0}}"
      ]
     },
     "execution_count": 17,
     "metadata": {},
     "output_type": "execute_result"
    }
   ],
   "source": [
    "# we can request an item specifically if we have the Primary Key (both partition and sort keys). \n",
    "table.get_item(Key={'Name': 'Frey', 'Email': 'jordan@freygeospatial.com'}) # note that 'column names' are case sensitive!!"
   ]
  },
  {
   "cell_type": "code",
   "execution_count": null,
   "id": "9e55ffa6",
   "metadata": {},
   "outputs": [
    {
     "data": {
      "text/plain": [
       "{'ResponseMetadata': {'RequestId': 'a579b84c-f986-46bc-9acf-d5c54abb7bbf',\n",
       "  'HTTPStatusCode': 200,\n",
       "  'HTTPHeaders': {'date': 'Mon, 09 May 2022 19:29:02 GMT',\n",
       "   'content-type': 'application/x-amz-json-1.0',\n",
       "   'x-amz-crc32': '2745614147',\n",
       "   'x-amzn-requestid': 'a579b84c-f986-46bc-9acf-d5c54abb7bbf',\n",
       "   'content-length': '2',\n",
       "   'server': 'Jetty(9.4.18.v20190429)'},\n",
       "  'RetryAttempts': 0}}"
      ]
     },
     "execution_count": 10,
     "metadata": {},
     "output_type": "execute_result"
    }
   ],
   "source": [
    "# add another record...\n",
    "table.put_item(Item={'Name':'Frey', \n",
    "               'Email': 'Frey2@freygeospatial.com',\n",
    "               'Country':'USA',\n",
    "               'RandomAttribute': 'Ugh!'})"
   ]
  },
  {
   "cell_type": "code",
   "execution_count": null,
   "id": "5694568d",
   "metadata": {},
   "outputs": [
    {
     "data": {
      "text/plain": [
       "2"
      ]
     },
     "execution_count": 13,
     "metadata": {},
     "output_type": "execute_result"
    }
   ],
   "source": [
    "# lets make sure we now have two records in the db\n",
    "results = table.scan()\n",
    "len(results[\"Items\"])"
   ]
  },
  {
   "cell_type": "code",
   "execution_count": null,
   "id": "b388975c",
   "metadata": {},
   "outputs": [
    {
     "data": {
      "text/plain": [
       "[{'Country': 'USA',\n",
       "  'RandomAttribute': 'Ugh!',\n",
       "  'Email': 'Frey2@freygeospatial.com',\n",
       "  'Name': 'Frey'},\n",
       " {'Country': 'USA',\n",
       "  'RandomAttribute': 'Blah!',\n",
       "  'Email': 'jordan@freygeospatial.com',\n",
       "  'Name': 'Frey'}]"
      ]
     },
     "execution_count": 15,
     "metadata": {},
     "output_type": "execute_result"
    }
   ],
   "source": [
    "# we can verify this further, if need be\n",
    "results[\"Items\"]"
   ]
  },
  {
   "cell_type": "code",
   "execution_count": null,
   "id": "d5fa04ed",
   "metadata": {},
   "outputs": [
    {
     "data": {
      "text/plain": [
       "{'Items': [{'Country': 'USA',\n",
       "   'RandomAttribute': 'Ugh!',\n",
       "   'Email': 'Frey2@freygeospatial.com',\n",
       "   'Name': 'Frey'}],\n",
       " 'Count': 1,\n",
       " 'ScannedCount': 1,\n",
       " 'LastEvaluatedKey': {'Email': 'Frey2@freygeospatial.com', 'Name': 'Frey'},\n",
       " 'ResponseMetadata': {'RequestId': 'fca64d7e-e405-4c8f-912a-9e586f1b16d9',\n",
       "  'HTTPStatusCode': 200,\n",
       "  'HTTPHeaders': {'date': 'Thu, 11 Aug 2022 20:14:48 GMT',\n",
       "   'content-type': 'application/x-amz-json-1.0',\n",
       "   'x-amz-crc32': '2783594237',\n",
       "   'x-amzn-requestid': 'fca64d7e-e405-4c8f-912a-9e586f1b16d9',\n",
       "   'content-length': '236',\n",
       "   'server': 'Jetty(9.4.18.v20190429)'},\n",
       "  'RetryAttempts': 0}}"
      ]
     },
     "execution_count": 8,
     "metadata": {},
     "output_type": "execute_result"
    }
   ],
   "source": [
    "# lets grab the first item, regardless of Partition Key\n",
    "table.scan(Limit=1)"
   ]
  },
  {
   "cell_type": "code",
   "execution_count": null,
   "id": "7aade86d",
   "metadata": {},
   "outputs": [],
   "source": [
    "# Remember that DynamoDB is SCHEMALESS -- we cannot specify\n",
    "# columns other that the HASH (and maybe RANGE, which is optional when creating table).\n",
    "\n",
    "# If we want to add a new item, we can specify any number of\n",
    "# attributes there...\n",
    "\n",
    "# to delete table D=\n",
    "#table.delete()\n",
    "\n",
    "# table.wait_until_not_exists() # check that table does not exist"
   ]
  },
  {
   "cell_type": "code",
   "execution_count": null,
   "id": "864ae6ba",
   "metadata": {},
   "outputs": [
    {
     "data": {
      "text/plain": [
       "{'ResponseMetadata': {'RequestId': 'f0ab37df-c5ee-4ca8-99f5-5b3a0e3d0e4e',\n",
       "  'HTTPStatusCode': 200,\n",
       "  'HTTPHeaders': {'date': 'Thu, 11 Aug 2022 20:28:30 GMT',\n",
       "   'content-type': 'application/x-amz-json-1.0',\n",
       "   'x-amz-crc32': '2745614147',\n",
       "   'x-amzn-requestid': 'f0ab37df-c5ee-4ca8-99f5-5b3a0e3d0e4e',\n",
       "   'content-length': '2',\n",
       "   'server': 'Jetty(9.4.18.v20190429)'},\n",
       "  'RetryAttempts': 0}}"
      ]
     },
     "execution_count": 13,
     "metadata": {},
     "output_type": "execute_result"
    }
   ],
   "source": [
    "# example of updating an item (table entry):\n",
    "table.update_item(\n",
    "    Key = {\n",
    "        'Name': 'Frey',\n",
    "        'Email': 'Frey2@freygeospatial.com'\n",
    "    },\n",
    "    UpdateExpression = 'SET Country = :updated',\n",
    "    ExpressionAttributeValues = {':updated': 'Ukraine'}\n",
    ")"
   ]
  },
  {
   "cell_type": "code",
   "execution_count": null,
   "id": "f9358d53",
   "metadata": {},
   "outputs": [
    {
     "data": {
      "text/plain": [
       "{'Country': 'Ukraine',\n",
       " 'RandomAttribute': 'Ugh!',\n",
       " 'Email': 'Frey2@freygeospatial.com',\n",
       " 'Name': 'Frey'}"
      ]
     },
     "execution_count": 16,
     "metadata": {},
     "output_type": "execute_result"
    }
   ],
   "source": [
    "# lets check to make sure the record was updated:\n",
    "table.get_item(Key={'Name': 'Frey', 'Email': 'Frey2@freygeospatial.com'})['Item']"
   ]
  },
  {
   "cell_type": "code",
   "execution_count": null,
   "id": "71d8d544",
   "metadata": {},
   "outputs": [
    {
     "name": "stdout",
     "output_type": "stream",
     "text": [
      "{'Country': 'Ukraine', 'RandomAttribute': 'Ugh!', 'Email': 'Frey2@freygeospatial.com', 'Name': 'Frey'}\n",
      "{'Country': 'USA', 'RandomAttribute': 'Blah!', 'Email': 'jordan@freygeospatial.com', 'Name': 'Frey'}\n"
     ]
    }
   ],
   "source": [
    "# example of a QUERY --  not just a 'get item'\n",
    "response = table.query(\n",
    "    KeyConditionExpression=Key('Name').eq('Frey')\n",
    ")\n",
    "\n",
    "items = response['Items']\n",
    "for item in items:\n",
    "    print(item)\n"
   ]
  },
  {
   "cell_type": "code",
   "execution_count": null,
   "id": "a0543d6a",
   "metadata": {},
   "outputs": [
    {
     "name": "stdout",
     "output_type": "stream",
     "text": [
      "{'Country': 'Ukraine', 'RandomAttribute': 'Ugh!', 'Email': 'Frey2@freygeospatial.com', 'Name': 'Frey'}\n"
     ]
    }
   ],
   "source": [
    "# example of a QUERY --  not just a 'get item'\n",
    "response = table.query(\n",
    "    KeyConditionExpression=Key('Name').eq('Frey') & Key('Email').eq('Frey2@freygeospatial.com') # Key val must actually be a deisgnated key (Hash and range). Cannot query on country\n",
    ")\n",
    "\n",
    "items = response['Items']\n",
    "for item in items:\n",
    "    print(item)\n"
   ]
  },
  {
   "cell_type": "code",
   "execution_count": null,
   "id": "6abd4b29",
   "metadata": {},
   "outputs": [],
   "source": [
    "# delete an item\n",
    "response = table.delete_item(\n",
    "    Key={\n",
    "        'Name': 'Frey',\n",
    "        'Email': 'Frey2@freygeospatial.com'\n",
    "    }\n",
    ")"
   ]
  },
  {
   "cell_type": "code",
   "execution_count": null,
   "id": "db0530a0",
   "metadata": {},
   "outputs": [
    {
     "data": {
      "text/plain": [
       "[{'Country': 'USA',\n",
       "  'RandomAttribute': 'Blah!',\n",
       "  'Email': 'jordan@freygeospatial.com',\n",
       "  'Name': 'Frey'}]"
      ]
     },
     "execution_count": 27,
     "metadata": {},
     "output_type": "execute_result"
    }
   ],
   "source": [
    "# check that deletion was a success\n",
    "table.scan()[\"Items\"]"
   ]
  },
  {
   "cell_type": "code",
   "execution_count": 27,
   "id": "c096c436",
   "metadata": {},
   "outputs": [],
   "source": [
    "# batch insert values:\n",
    "\n",
    "# imagine that new_items is a list of variable length. could be\n",
    "# len of 10 as in this case, but maybe this changes in your application\n",
    "new_names = ['Frey' + str(x) for x in range(10)]\n",
    "new_emails = ['Frey' + str(x) + '@freygeospatial.com' for x in range(10)]\n",
    "\n",
    "# instead of 10 different write transactions, there is only one- very efficient and economical!\n",
    "with table.batch_writer() as batch:\n",
    "    for i in range(len(new_names)):\n",
    "        kwargs = { 'Item': {\"Name\": new_names[i], \"Email\": new_emails[i], }, }\n",
    "        batch.put_item(**kwargs)"
   ]
  },
  {
   "cell_type": "code",
   "execution_count": 28,
   "id": "4c4c03e0",
   "metadata": {},
   "outputs": [
    {
     "data": {
      "text/plain": [
       "[{'Name': 'Frey3', 'Email': 'Frey3@freygeospatial.com'},\n",
       " {'Name': 'Frey1', 'Email': 'Frey1@freygeospatial.com'},\n",
       " {'Name': 'Frey4', 'Email': 'Frey4@freygeospatial.com'},\n",
       " {'Name': 'Frey0', 'Email': 'Frey0@freygeospatial.com'},\n",
       " {'Name': 'Frey8', 'Email': 'Frey8@freygeospatial.com'},\n",
       " {'Name': 'Frey9', 'Email': 'Frey9@freygeospatial.com'},\n",
       " {'Name': 'Frey6', 'Email': 'Frey6@freygeospatial.com'},\n",
       " {'Country': 'USA',\n",
       "  'RandomAttribute': 'Blah!',\n",
       "  'Email': 'jordan@freygeospatial.com',\n",
       "  'Name': 'Frey'},\n",
       " {'Name': 'Frey2', 'Email': 'Frey2@freygeospatial.com'},\n",
       " {'Name': 'Frey5', 'Email': 'Frey5@freygeospatial.com'},\n",
       " {'Name': 'Frey7', 'Email': 'Frey7@freygeospatial.com'}]"
      ]
     },
     "execution_count": 28,
     "metadata": {},
     "output_type": "execute_result"
    }
   ],
   "source": [
    "table.scan()[\"Items\"]"
   ]
  },
  {
   "cell_type": "code",
   "execution_count": 29,
   "id": "0ec4c528",
   "metadata": {},
   "outputs": [
    {
     "data": {
      "text/plain": [
       "[{'Country': 'USA',\n",
       "  'RandomAttribute': 'Blah!',\n",
       "  'Email': 'jordan@freygeospatial.com',\n",
       "  'Name': 'Frey'}]"
      ]
     },
     "execution_count": 29,
     "metadata": {},
     "output_type": "execute_result"
    }
   ],
   "source": [
    "# now, let's delete those:\n",
    "\n",
    "with table.batch_writer() as batch:\n",
    "    for i in range(len(new_names)):\n",
    "        kwargs = { 'Key': {\"Name\": new_names[i], \"Email\": new_emails[i], }, } # change 'Item' to 'Key'\n",
    "        batch.delete_item(**kwargs)\n",
    "\n",
    "table.scan()[\"Items\"]"
   ]
  },
  {
   "cell_type": "markdown",
   "id": "219c461f",
   "metadata": {},
   "source": []
  }
 ],
 "metadata": {
  "kernelspec": {
   "display_name": "Python 3 (ipykernel)",
   "language": "python",
   "name": "python3"
  },
  "language_info": {
   "codemirror_mode": {
    "name": "ipython",
    "version": 3
   },
   "file_extension": ".py",
   "mimetype": "text/x-python",
   "name": "python",
   "nbconvert_exporter": "python",
   "pygments_lexer": "ipython3",
   "version": "3.9.7"
  },
  "vscode": {
   "interpreter": {
    "hash": "923b00e11f1e58a5577f5ee6ae2c7e1f0480571603fa6c96d360e2acbf126fca"
   }
  }
 },
 "nbformat": 4,
 "nbformat_minor": 5
}
