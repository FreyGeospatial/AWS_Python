{
 "cells": [
  {
   "cell_type": "code",
   "execution_count": 1,
   "id": "42702440",
   "metadata": {},
   "outputs": [],
   "source": [
    "import boto3"
   ]
  },
  {
   "cell_type": "code",
   "execution_count": 2,
   "id": "f929e8a4",
   "metadata": {},
   "outputs": [],
   "source": [
    "# two options... can create boto3 client OR resource with DynamoDB"
   ]
  },
  {
   "cell_type": "code",
   "execution_count": 3,
   "id": "80cbce8d",
   "metadata": {},
   "outputs": [
    {
     "data": {
      "text/plain": [
       "{'TableNames': [],\n",
       " 'ResponseMetadata': {'RequestId': 'c5fe2eca-44f2-4ca5-ab56-a0c951563328',\n",
       "  'HTTPStatusCode': 200,\n",
       "  'HTTPHeaders': {'date': 'Thu, 05 May 2022 15:13:11 GMT',\n",
       "   'content-type': 'application/x-amz-json-1.0',\n",
       "   'x-amz-crc32': '1315925753',\n",
       "   'x-amzn-requestid': 'c5fe2eca-44f2-4ca5-ab56-a0c951563328',\n",
       "   'content-length': '17',\n",
       "   'server': 'Jetty(9.4.18.v20190429)'},\n",
       "  'RetryAttempts': 0}}"
      ]
     },
     "execution_count": 3,
     "metadata": {},
     "output_type": "execute_result"
    }
   ],
   "source": [
    "ddb = boto3.client('dynamodb', endpoint_url='http://localhost:8000')\n",
    "ddb.list_tables()"
   ]
  },
  {
   "cell_type": "code",
   "execution_count": 8,
   "id": "60413089",
   "metadata": {},
   "outputs": [
    {
     "name": "stdout",
     "output_type": "stream",
     "text": [
      "[]\n"
     ]
    }
   ],
   "source": [
    "ddb = boto3.resource('dynamodb', endpoint_url='http://localhost:8000')\n",
    "list(ddb.tables.all()) # prints empty list, as we have no tables"
   ]
  },
  {
   "cell_type": "code",
   "execution_count": 10,
   "id": "8652c0ad",
   "metadata": {},
   "outputs": [
    {
     "data": {
      "text/plain": [
       "boto3.resources.factory.dynamodb.ServiceResource"
      ]
     },
     "execution_count": 10,
     "metadata": {},
     "output_type": "execute_result"
    }
   ],
   "source": [
    "# we will use resources for this tutorial.\n",
    "type(ddb)"
   ]
  },
  {
   "cell_type": "code",
   "execution_count": 51,
   "id": "5a5a9897",
   "metadata": {},
   "outputs": [
    {
     "name": "stdout",
     "output_type": "stream",
     "text": [
      "dynamodb.Table(name='Employees')\n"
     ]
    }
   ],
   "source": [
    "# create table using JSON format\n",
    "table = ddb.create_table(\n",
    "    TableName = 'Employees',\n",
    "    # HASH and RANGE together make up a \"primary key\", which is unique in the table\n",
    "    # you can have the same HASH multiple times, but with different RANGES (and vice versa?).\n",
    "    KeySchema = [\n",
    "        {\n",
    "            'AttributeName': 'Name',\n",
    "            'KeyType': 'HASH' # PARITION KEY\n",
    "        },\n",
    "        {\n",
    "            'AttributeName': 'Email', # SORT KEY (optional)\n",
    "            'KeyType': 'RANGE'\n",
    "        }\n",
    "    ],\n",
    "    AttributeDefinitions = [\n",
    "        {\n",
    "            'AttributeName': 'Name',\n",
    "            'AttributeType': 'S' # S == STRING\n",
    "        },\n",
    "        {\n",
    "            'AttributeName': 'Email',\n",
    "            'AttributeType': 'S' \n",
    "        }\n",
    "    ],\n",
    "    # doesn't matter for local instance\n",
    "    ProvisionedThroughput={ # THE RATE AT WHICH YOU WANT YOUR READ/WRITE CAPACITY TO BE SET TO\n",
    "        'ReadCapacityUnits': 1,\n",
    "        'WriteCapacityUnits': 1\n",
    "    },\n",
    "    BillingMode='PAY_PER_REQUEST', # optional argument, does not matter for local instance\n",
    "    # note that adding a single GSI doubles cost of writing,\n",
    "    # and you can add a max of 20 GSIs. Replications to GSI table are quick\n",
    "    # but not instantaneous.\n",
    "    \n",
    "    # also, write capacity on GSI table should honestly be HIGHER than \n",
    "    # write capacity on main table\n",
    "    GlobalSecondaryIndexes=[\n",
    "        {\n",
    "            'IndexName': 'Country', # MUST BE UNIQUE ONLY FOR THIS TABLE\n",
    "            # key schema must have at least a partition key. RANGE is optional\n",
    "            'KeySchema': [\n",
    "                {\n",
    "                    'AttributeName': 'Name', # must this be the same as in main table?\n",
    "                    'KeyType': 'HASH'\n",
    "                }\n",
    "        ],\n",
    "        # This represents attributes that are copied (projected) from main table into\n",
    "        # secondary index table. These are in addition to PK atrributes and Index key attributes,\n",
    "        # which are automatically projected.\n",
    "            'Projection': {\n",
    "                # can be 'KEYS_ONLY', 'ALL' or \"INCLUDE\", the latter of which requires a list to be passed elsewhere. See boto3 documentation.\n",
    "                'ProjectionType': 'ALL'\n",
    "                # 'NonKeyAttributes': ['string']\n",
    "            },\n",
    "            'ProvisionedThroughput': {\n",
    "                'ReadCapacityUnits': 1,\n",
    "                'WriteCapacityUnits': 2\n",
    "            }\n",
    "        }\n",
    "    ]\n",
    ")\n",
    "\n",
    "print(table)"
   ]
  },
  {
   "cell_type": "code",
   "execution_count": 52,
   "id": "1bba3a25",
   "metadata": {},
   "outputs": [
    {
     "data": {
      "text/plain": [
       "[{'AttributeName': 'Name', 'KeyType': 'HASH'},\n",
       " {'AttributeName': 'Email', 'KeyType': 'RANGE'}]"
      ]
     },
     "execution_count": 52,
     "metadata": {},
     "output_type": "execute_result"
    }
   ],
   "source": [
    "# returns key schema\n",
    "table.key_schema"
   ]
  },
  {
   "cell_type": "code",
   "execution_count": 53,
   "id": "8b7a2ad3",
   "metadata": {},
   "outputs": [
    {
     "data": {
      "text/plain": [
       "[{'AttributeName': 'Name', 'AttributeType': 'S'},\n",
       " {'AttributeName': 'Email', 'AttributeType': 'S'}]"
      ]
     },
     "execution_count": 53,
     "metadata": {},
     "output_type": "execute_result"
    }
   ],
   "source": [
    "# returns the table attribute definitions\n",
    "table.attribute_definitions"
   ]
  },
  {
   "cell_type": "code",
   "execution_count": 54,
   "id": "04a48216",
   "metadata": {},
   "outputs": [
    {
     "data": {
      "text/plain": [
       "{'LastIncreaseDateTime': datetime.datetime(1969, 12, 31, 19, 0, tzinfo=tzlocal()),\n",
       " 'LastDecreaseDateTime': datetime.datetime(1969, 12, 31, 19, 0, tzinfo=tzlocal()),\n",
       " 'NumberOfDecreasesToday': 0,\n",
       " 'ReadCapacityUnits': 0,\n",
       " 'WriteCapacityUnits': 0}"
      ]
     },
     "execution_count": 54,
     "metadata": {},
     "output_type": "execute_result"
    }
   ],
   "source": [
    "# returned provisioned_throughput\n",
    "table.provisioned_throughput"
   ]
  },
  {
   "cell_type": "code",
   "execution_count": 55,
   "id": "ca022083",
   "metadata": {},
   "outputs": [
    {
     "data": {
      "text/plain": [
       "[{'IndexName': 'Country',\n",
       "  'KeySchema': [{'AttributeName': 'Name', 'KeyType': 'HASH'}],\n",
       "  'Projection': {'ProjectionType': 'ALL'},\n",
       "  'IndexStatus': 'ACTIVE',\n",
       "  'ProvisionedThroughput': {'ReadCapacityUnits': 0, 'WriteCapacityUnits': 0},\n",
       "  'IndexSizeBytes': 0,\n",
       "  'ItemCount': 0,\n",
       "  'IndexArn': 'arn:aws:dynamodb:ddblocal:000000000000:table/Employees/index/Country'}]"
      ]
     },
     "execution_count": 55,
     "metadata": {},
     "output_type": "execute_result"
    }
   ],
   "source": [
    "# find GSIs\n",
    "table.global_secondary_indexes"
   ]
  },
  {
   "cell_type": "code",
   "execution_count": 44,
   "id": "8146ea53",
   "metadata": {},
   "outputs": [
    {
     "name": "stdout",
     "output_type": "stream",
     "text": [
      "Items\n",
      "Count\n",
      "ScannedCount\n",
      "ResponseMetadata\n"
     ]
    }
   ],
   "source": [
    "# scan table though it's empty)\n",
    "results = table.scan()\n",
    "for item in results:\n",
    "    print(item)\n",
    "    "
   ]
  },
  {
   "cell_type": "code",
   "execution_count": 21,
   "id": "1ab92912",
   "metadata": {},
   "outputs": [
    {
     "data": {
      "text/plain": [
       "[]"
      ]
     },
     "execution_count": 21,
     "metadata": {},
     "output_type": "execute_result"
    }
   ],
   "source": [
    "results[\"Items\"]"
   ]
  },
  {
   "cell_type": "code",
   "execution_count": 22,
   "id": "d25809fe",
   "metadata": {},
   "outputs": [
    {
     "data": {
      "text/plain": [
       "0"
      ]
     },
     "execution_count": 22,
     "metadata": {},
     "output_type": "execute_result"
    }
   ],
   "source": [
    "results[\"Count\"]"
   ]
  },
  {
   "cell_type": "code",
   "execution_count": 23,
   "id": "c48456db",
   "metadata": {},
   "outputs": [
    {
     "data": {
      "text/plain": [
       "0"
      ]
     },
     "execution_count": 23,
     "metadata": {},
     "output_type": "execute_result"
    }
   ],
   "source": [
    "results[\"ScannedCount\"]"
   ]
  },
  {
   "cell_type": "code",
   "execution_count": 24,
   "id": "f963209b",
   "metadata": {},
   "outputs": [
    {
     "data": {
      "text/plain": [
       "{'RequestId': 'd9265853-d3eb-4fa5-8678-d08f8a2a02bd',\n",
       " 'HTTPStatusCode': 200,\n",
       " 'HTTPHeaders': {'date': 'Thu, 05 May 2022 16:54:38 GMT',\n",
       "  'content-type': 'application/x-amz-json-1.0',\n",
       "  'x-amz-crc32': '583912891',\n",
       "  'x-amzn-requestid': 'd9265853-d3eb-4fa5-8678-d08f8a2a02bd',\n",
       "  'content-length': '39',\n",
       "  'server': 'Jetty(9.4.18.v20190429)'},\n",
       " 'RetryAttempts': 0}"
      ]
     },
     "execution_count": 24,
     "metadata": {},
     "output_type": "execute_result"
    }
   ],
   "source": [
    "results[\"ResponseMetadata\"]"
   ]
  },
  {
   "cell_type": "code",
   "execution_count": null,
   "id": "16fa4e76",
   "metadata": {},
   "outputs": [],
   "source": [
    "# Remember that DynamoDB is SCHEMALESS -- we cannot specify\n",
    "# columns other that the HASH (and maybe RANGE, which is optional).\n",
    "\n",
    "# If we want to add a new item, we can specify any number of\n",
    "# attributes there..."
   ]
  },
  {
   "cell_type": "code",
   "execution_count": 50,
   "id": "f2b9fead",
   "metadata": {},
   "outputs": [
    {
     "data": {
      "text/plain": [
       "{'TableDescription': {'AttributeDefinitions': [{'AttributeName': 'Name',\n",
       "    'AttributeType': 'S'},\n",
       "   {'AttributeName': 'Email', 'AttributeType': 'S'}],\n",
       "  'TableName': 'Employees',\n",
       "  'KeySchema': [{'AttributeName': 'Name', 'KeyType': 'HASH'},\n",
       "   {'AttributeName': 'Email', 'KeyType': 'RANGE'}],\n",
       "  'TableStatus': 'ACTIVE',\n",
       "  'CreationDateTime': datetime.datetime(2022, 5, 5, 19, 53, 18, 281000, tzinfo=tzlocal()),\n",
       "  'ProvisionedThroughput': {'LastIncreaseDateTime': datetime.datetime(1969, 12, 31, 19, 0, tzinfo=tzlocal()),\n",
       "   'LastDecreaseDateTime': datetime.datetime(1969, 12, 31, 19, 0, tzinfo=tzlocal()),\n",
       "   'NumberOfDecreasesToday': 0,\n",
       "   'ReadCapacityUnits': 0,\n",
       "   'WriteCapacityUnits': 0},\n",
       "  'TableSizeBytes': 0,\n",
       "  'ItemCount': 0,\n",
       "  'TableArn': 'arn:aws:dynamodb:ddblocal:000000000000:table/Employees',\n",
       "  'BillingModeSummary': {'BillingMode': 'PAY_PER_REQUEST',\n",
       "   'LastUpdateToPayPerRequestDateTime': datetime.datetime(2022, 5, 5, 19, 53, 18, 281000, tzinfo=tzlocal())},\n",
       "  'GlobalSecondaryIndexes': [{'IndexName': 'Country',\n",
       "    'KeySchema': [{'AttributeName': 'Name', 'KeyType': 'HASH'}],\n",
       "    'Projection': {'ProjectionType': 'ALL'},\n",
       "    'IndexStatus': 'ACTIVE',\n",
       "    'ProvisionedThroughput': {'ReadCapacityUnits': 0, 'WriteCapacityUnits': 0},\n",
       "    'IndexSizeBytes': 0,\n",
       "    'ItemCount': 0,\n",
       "    'IndexArn': 'arn:aws:dynamodb:ddblocal:000000000000:table/Employees/index/Country'}]},\n",
       " 'ResponseMetadata': {'RequestId': '9cd6db8f-9576-45e0-b9d4-8fb1863d02e9',\n",
       "  'HTTPStatusCode': 200,\n",
       "  'HTTPHeaders': {'date': 'Thu, 05 May 2022 23:53:26 GMT',\n",
       "   'content-type': 'application/x-amz-json-1.0',\n",
       "   'x-amz-crc32': '1012757438',\n",
       "   'x-amzn-requestid': '9cd6db8f-9576-45e0-b9d4-8fb1863d02e9',\n",
       "   'content-length': '1036',\n",
       "   'server': 'Jetty(9.4.18.v20190429)'},\n",
       "  'RetryAttempts': 0}}"
      ]
     },
     "execution_count": 50,
     "metadata": {},
     "output_type": "execute_result"
    }
   ],
   "source": [
    "# to delete table D=\n",
    "table.delete()"
   ]
  },
  {
   "cell_type": "code",
   "execution_count": 47,
   "id": "b0420b2d",
   "metadata": {},
   "outputs": [],
   "source": [
    "table.wait_until_not_exists() # check that table does not exist"
   ]
  },
  {
   "cell_type": "code",
   "execution_count": null,
   "id": "4d104bcd",
   "metadata": {},
   "outputs": [],
   "source": []
  }
 ],
 "metadata": {
  "kernelspec": {
   "display_name": "Python 3 (ipykernel)",
   "language": "python",
   "name": "python3"
  },
  "language_info": {
   "codemirror_mode": {
    "name": "ipython",
    "version": 3
   },
   "file_extension": ".py",
   "mimetype": "text/x-python",
   "name": "python",
   "nbconvert_exporter": "python",
   "pygments_lexer": "ipython3",
   "version": "3.9.7"
  }
 },
 "nbformat": 4,
 "nbformat_minor": 5
}
